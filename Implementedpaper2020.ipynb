{
  "nbformat": 4,
  "nbformat_minor": 0,
  "metadata": {
    "colab": {
      "name": "Implementedpaper2020.ipynb",
      "provenance": [],
      "collapsed_sections": [],
      "include_colab_link": true
    },
    "kernelspec": {
      "name": "python3",
      "display_name": "Python 3"
    }
  },
  "cells": [
    {
      "cell_type": "markdown",
      "metadata": {
        "id": "view-in-github",
        "colab_type": "text"
      },
      "source": [
        "<a href=\"https://colab.research.google.com/github/h-rathee30/Link-Prediction-/blob/master/Implementedpaper2020.ipynb\" target=\"_parent\"><img src=\"https://colab.research.google.com/assets/colab-badge.svg\" alt=\"Open In Colab\"/></a>"
      ]
    },
    {
      "cell_type": "code",
      "metadata": {
        "id": "qfbr30N9sdAv",
        "colab_type": "code",
        "colab": {}
      },
      "source": [
        "import networkx as nx\n",
        "import pandas as pd\n",
        "import numpy as np\n",
        "import matplotlib.pyplot as plt\n",
        "from sklearn.model_selection import train_test_split\n",
        "from sklearn.linear_model import LogisticRegression\n",
        "from sklearn.metrics import roc_auc_score, precision_recall_curve, auc\n",
        "from google.colab import files"
      ],
      "execution_count": null,
      "outputs": []
    },
    {
      "cell_type": "code",
      "metadata": {
        "id": "xsSHXdDutyaS",
        "colab_type": "code",
        "colab": {
          "resources": {
            "http://localhost:8080/nbextensions/google.colab/files.js": {
              "data": "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",
              "ok": true,
              "headers": [
                [
                  "content-type",
                  "application/javascript"
                ]
              ],
              "status": 200,
              "status_text": ""
            }
          },
          "base_uri": "https://localhost:8080/",
          "height": 72
        },
        "outputId": "f582c874-e8c5-43ab-a8de-81d1421e6534"
      },
      "source": [
        "uploaded = files.upload()"
      ],
      "execution_count": null,
      "outputs": [
        {
          "output_type": "display_data",
          "data": {
            "text/html": [
              "\n",
              "     <input type=\"file\" id=\"files-87059df7-a53c-4f11-98fb-a096701b8aaa\" name=\"files[]\" multiple disabled\n",
              "        style=\"border:none\" />\n",
              "     <output id=\"result-87059df7-a53c-4f11-98fb-a096701b8aaa\">\n",
              "      Upload widget is only available when the cell has been executed in the\n",
              "      current browser session. Please rerun this cell to enable.\n",
              "      </output>\n",
              "      <script src=\"/nbextensions/google.colab/files.js\"></script> "
            ],
            "text/plain": [
              "<IPython.core.display.HTML object>"
            ]
          },
          "metadata": {
            "tags": []
          }
        },
        {
          "output_type": "stream",
          "text": [
            "Saving dolphins.gml to dolphins.gml\n"
          ],
          "name": "stdout"
        }
      ]
    },
    {
      "cell_type": "code",
      "metadata": {
        "id": "DHVtH1DD287A",
        "colab_type": "code",
        "colab": {}
      },
      "source": [
        "#if the data is in gml file format\n",
        "G = nx.read_gml(\"dolphins.gml\")\n",
        "G = nx.convert_node_labels_to_integers(G, first_label=1, ordering='default')\n",
        "data = list(G.edges)\n",
        "data = pd.DataFrame(data)\n",
        "data"
      ],
      "execution_count": null,
      "outputs": []
    },
    {
      "cell_type": "code",
      "metadata": {
        "id": "srFG3KGdGrRH",
        "colab_type": "code",
        "colab": {}
      },
      "source": [
        "#if the data is in a .txt file\n",
        "from sklearn.model_selection import train_test_split\n",
        "data = pd.read_csv('b1.in',delim_whitespace=True, names=('SRC', 'TGT') )\n",
        "data"
      ],
      "execution_count": null,
      "outputs": []
    },
    {
      "cell_type": "code",
      "metadata": {
        "id": "DfAZqZliG0tk",
        "colab_type": "code",
        "colab": {}
      },
      "source": [
        "#data editiing with respect to the data uploaded \n",
        "data.drop(['IGNORE'], axis = 1, inplace = True)\n",
        "data = data.iloc[1:50001]\n",
        "data.reset_index(drop = True, inplace = True)\n",
        "data = data.astype(int)"
      ],
      "execution_count": null,
      "outputs": []
    },
    {
      "cell_type": "code",
      "metadata": {
        "id": "nbly4YEeT_J_",
        "colab_type": "code",
        "colab": {}
      },
      "source": [
        "No_of_nodes = data.to_numpy()\n",
        "No_of_nodes = np.unique(No_of_nodes)\n",
        "nodes_input = np.sort(No_of_nodes)"
      ],
      "execution_count": null,
      "outputs": []
    },
    {
      "cell_type": "code",
      "metadata": {
        "id": "CU-8aKoUPIgM",
        "colab_type": "code",
        "colab": {}
      },
      "source": [
        "def Pair_Of_Nodes(g):\n",
        "    nodes = list(g.nodes) # list is used bec. graph nodes provides nodeView \n",
        "    pair_of_nodes = []\n",
        "    for i in range(0, len(nodes)):\n",
        "        for j in range(i+1, len(nodes)) :\n",
        "            pair = [nodes[i], nodes[j]]\n",
        "            pair_of_nodes.append(pair)\n",
        "    return pair_of_nodes\n",
        "\n",
        "\n",
        "def Common_NeighboursList(g, all_Pairs):\n",
        "    commonNeighoursList = {}\n",
        "    for node1, node2 in all_Pairs :\n",
        "        commonNeighoursList[str(node1)+\" \"+str(node2)] = len(list(nx.common_neighbors(g,node1,node2)))\n",
        "    return  commonNeighoursList \n",
        "\n",
        "\n",
        "#if has direct edge then deleting that edge and calculating shortest path\n",
        "def compute_shortest_path_length(a,b,g):\n",
        "    p=-1\n",
        "    try:\n",
        "        if g.has_edge(a,b):\n",
        "            g.remove_edge(a,b)\n",
        "            p= len(nx.shortest_path(g,source=a,target=b))-1\n",
        "            g.add_edge(a,b)\n",
        "        else:\n",
        "            p= len(nx.shortest_path(g,source=a,target=b))-1\n",
        "        return p\n",
        "    except:\n",
        "        return -1\n",
        "\n",
        "\n",
        "def Closeness_Centrality(u, v, g):\n",
        "    short_dist = compute_shortest_path_length(u,v,g)\n",
        "    no_of_nodes_in_connected_part = len(No_of_nodes)\n",
        "    if short_dist == -1:\n",
        "        return 0\n",
        "    else:\n",
        "        return (no_of_nodes_in_connected_part/short_dist)\n",
        "\n",
        "\n",
        "def Common_Neighbours(g, pair_of_nodes):\n",
        "    common_neighbours = []\n",
        "    for node1, node2 in pair_of_nodes:\n",
        "        length = len(list((nx.common_neighbors(g,node1,node2))))\n",
        "        temp = [node1, node2, length ]\n",
        "        common_neighbours.append(temp) \n",
        "    return common_neighbours\n",
        "\n",
        "\n",
        "def getDictionaryFromList(input_list) :\n",
        "    dic = {}\n",
        "    for ele in input_list :\n",
        "        dic[str(ele[0])+\" \"+str(ele[1])] = ele[2]\n",
        "    return dic"
      ],
      "execution_count": null,
      "outputs": []
    },
    {
      "cell_type": "code",
      "metadata": {
        "id": "NNkBaucAMFRR",
        "colab_type": "code",
        "colab": {}
      },
      "source": [
        "independent_variable = {}\n",
        "dependent_variable = {}\n",
        "train, test = train_test_split(data, test_size = 0.2)\n",
        "train = train.values.tolist()\n",
        "test = test.values.tolist()\n",
        "\n",
        "tra = []\n",
        "tst = []\n",
        "testSet = set()\n",
        "for dt in range(0,len(train)) :\n",
        "    node1 = train[dt][0] if train[dt][0] <= train[dt][1] else train[dt][1]  \n",
        "    node2 = train[dt][0] if train[dt][0] >= train[dt][1] else train[dt][1]\n",
        "    if node1 == node2 : continue\n",
        "    else : tra.append([node1, node2])  \n",
        "\n",
        "train = tra    \n",
        "    \n",
        "for dt in range(0,len(test)) :\n",
        "    node1 = test[dt][0] if test[dt][0] <= test[dt][1] else test[dt][1]  \n",
        "    node2 = test[dt][0] if test[dt][0] >= test[dt][1] else test[dt][1]\n",
        "    if node1 == node2 : continue\n",
        "    else : \n",
        "      tst.append([node1, node2])\n",
        "      testSet.add(str(node1)+\" \"+str(node2))\n",
        "      \n",
        "test = tst    \n",
        " "
      ],
      "execution_count": null,
      "outputs": []
    },
    {
      "cell_type": "code",
      "metadata": {
        "id": "vWyVJ-a_cqbe",
        "colab_type": "code",
        "colab": {
          "base_uri": "https://localhost:8080/",
          "height": 51
        },
        "outputId": "5735e896-6091-4857-f562-b1a90e233528"
      },
      "source": [
        "graph = nx.Graph()\n",
        "for i in nodes_input: \n",
        "    graph.add_node(i)\n",
        "\n",
        "for dt in range(0,len(train)):\n",
        "    graph.add_edge(train[dt][0],train[dt][1])\n",
        " \n",
        "\n",
        "print(len(graph.edges))\n",
        "print(len(graph.nodes))"
      ],
      "execution_count": null,
      "outputs": [
        {
          "output_type": "stream",
          "text": [
            "2193\n",
            "198\n"
          ],
          "name": "stdout"
        }
      ]
    },
    {
      "cell_type": "code",
      "metadata": {
        "id": "ucd9aqhkcrXA",
        "colab_type": "code",
        "colab": {
          "base_uri": "https://localhost:8080/",
          "height": 51
        },
        "outputId": "76e7906f-f7e4-4df8-b8f1-c9452cf8e5bf"
      },
      "source": [
        " all_pairs_of_nodes = Pair_Of_Nodes(graph)\n",
        "common_neighbour_dictionary = Common_NeighboursList(graph, all_pairs_of_nodes)  \n",
        "\n",
        "\n",
        "pairs_To_Be_Examined = set()\n",
        "for node1, node2 in all_pairs_of_nodes :\n",
        "    pairs_To_Be_Examined.add((node1, node2))\n",
        "    independent_variable[str(node1)+\" \"+str(node2)] = []\n",
        "    dependent_variable[str(node1)+\" \"+str(node2)] = 0\n",
        "     \n",
        "print(len(pairs_To_Be_Examined)) # val1\n",
        "# removing already present edges\n",
        "for dt in range(0,len(train)):\n",
        "    node1 = train[dt][0] if train[dt][0] <= train[dt][1] else train[dt][1]  \n",
        "    node2 = train[dt][0] if train[dt][0] >= train[dt][1] else train[dt][1]\n",
        "    pairs_To_Be_Examined.discard((node1, node2))\n",
        "    dependent_variable[str(node1)+\" \"+str(node2)] = 1\n",
        "    \n",
        "for dt in range(0,len(test)):\n",
        "    node1 = test[dt][0] if test[dt][0] <= test[dt][1] else test[dt][1]  \n",
        "    node2 = test[dt][0] if test[dt][0] >= test[dt][1] else test[dt][1]\n",
        "    dependent_variable[str(node1)+\" \"+str(node2)] = 1  \n",
        "print(len(pairs_To_Be_Examined))"
      ],
      "execution_count": null,
      "outputs": [
        {
          "output_type": "stream",
          "text": [
            "19503\n",
            "17310\n"
          ],
          "name": "stdout"
        }
      ]
    },
    {
      "cell_type": "code",
      "metadata": {
        "id": "kO8-i_i-Svx5",
        "colab_type": "code",
        "colab": {}
      },
      "source": [
        "common_Neighbours = Common_NeighboursList(graph,all_pairs_of_nodes)\n",
        "\n",
        "# comparing efficiencies    \n",
        "#centrality_measures = [closeness_Centrality]\n",
        "similarity_measures = [common_Neighbours]\n",
        "\n",
        "similarity_measures_name = [\"common_Neighbours\"]\n",
        "\n",
        "for node1, node2 in all_pairs_of_nodes :\n",
        "    sim_arr = []\n",
        "    for j in range(len(similarity_measures_name)):\n",
        "      sim_arr.append(similarity_measures[j][str(node1)+\" \"+str(node2)]) \n",
        "    independent_variable[str(node1)+\" \"+str(node2)] = sim_arr\n"
      ],
      "execution_count": null,
      "outputs": []
    },
    {
      "cell_type": "code",
      "metadata": {
        "id": "ZUMChBR6r77Y",
        "colab_type": "code",
        "colab": {}
      },
      "source": [
        "# this feature table contains the Common neighbours and Closeness Centrality node pair wise\n",
        "feature_table = []\n",
        "for node1, node2 in pairs_To_Be_Examined:\n",
        "    close_centrality = Closeness_Centrality(node1,node2, graph)\n",
        "    temp = [node1,node2,int(common_Neighbours[str(node1)+\" \"+str(node2)]),close_centrality]\n",
        "    feature_table.append(temp)"
      ],
      "execution_count": null,
      "outputs": []
    },
    {
      "cell_type": "code",
      "metadata": {
        "id": "MuelFtjl3TXt",
        "colab_type": "code",
        "colab": {}
      },
      "source": [
        "#here to check the predictions for a particular alpha\n",
        "y_compare = []\n",
        "results = []\n",
        "nodes_value = []\n",
        "control_values = [0.6]\n",
        "for x in control_values:\n",
        "    alpha = x\n",
        "    yActual = []\n",
        "    yPredicted = []  \n",
        "    for row in feature_table :\n",
        "        node1 = row[0]\n",
        "        node2 = row[1]\n",
        "        value = alpha*row[2] + ( (1-alpha)*row[3] )\n",
        "        yPredicted.append(value)\n",
        "        nodePair = str(node1)+\" \"+str(node2)\n",
        "        if nodePair in testSet: yActual.append(int(1))\n",
        "        else : yActual.append(int(0))\n",
        "        nodes_value.append([node1, node2, value])\n",
        "    auc_roc = roc_auc_score(yActual, yPredicted)\n",
        "    pre, re, thres = precision_recall_curve(yActual,yPredicted)\n",
        "    auc_prc = auc(re, pre)\n",
        "    accuracyParameters = []\n",
        "    accuracyParameters.append(alpha)\n",
        "    accuracyParameters.append(auc_roc)\n",
        "    accuracyParameters.append(auc_prc)\n",
        "    results.append(accuracyParameters)\n",
        "\n",
        "#sorting in decreasing order of the value\n",
        "nodes_value = sorted(nodes_value,key=lambda x: (x[2]), reverse=True)\n",
        "max_val = nodes_value[0][2]\n",
        "\n",
        "# value which is more than 50 percent is being predicted as a link to be\n",
        "for row in nodes_value:\n",
        "    node1 = row[0]\n",
        "    node2 = row[1]\n",
        "    value = row[2]\n",
        "    nodePair = str(node1)+\" \"+str(node2)\n",
        "    percent = (value/max_val)*100\n",
        "    if percent >= 50:\n",
        "      row.append(1)\n",
        "    else : row.append(0)\n",
        "    if nodePair in testSet:\n",
        "      row.append(1)\n",
        "    else : row.append(0)\n",
        "    \n",
        "predictions = pd.DataFrame(nodes_value)"
      ],
      "execution_count": null,
      "outputs": []
    },
    {
      "cell_type": "code",
      "metadata": {
        "id": "okIE2m-2w9u7",
        "colab_type": "code",
        "colab": {
          "base_uri": "https://localhost:8080/",
          "height": 51
        },
        "outputId": "17b0e951-7159-4441-dc08-34523d34535e"
      },
      "source": [
        "#here i am using various alpha values to see the effect on auc roc values\n",
        "results = []\n",
        "nodes_value = []\n",
        "control_values = np.arange(0,1.05,0.05)\n",
        "print(control_values)\n",
        "for x in control_values:\n",
        "    alpha = x\n",
        "    yActual = []\n",
        "    yPredicted = []\n",
        "    for row in feature_table :\n",
        "        node1 = row[0]\n",
        "        node2 = row[1]\n",
        "        value = alpha*row[2] + ( (1-alpha)*row[3] )\n",
        "        yPredicted.append(value)\n",
        "        nodePair = str(node1)+\" \"+str(node2)\n",
        "        if nodePair in testSet : yActual.append(int(1))\n",
        "        else : yActual.append(int(0))\n",
        "        nodes_value.append([value, node1, node2])\n",
        "    auc_roc = roc_auc_score(yActual, yPredicted)\n",
        "    pre, re, thres = precision_recall_curve(yActual,yPredicted)\n",
        "    auc_prc = auc(re, pre)\n",
        "    accuracyParameters = []\n",
        "    accuracyParameters.append(alpha)\n",
        "    accuracyParameters.append(auc_roc)\n",
        "    accuracyParameters.append(auc_prc)\n",
        "    results.append(accuracyParameters)"
      ],
      "execution_count": null,
      "outputs": [
        {
          "output_type": "stream",
          "text": [
            "[0.   0.05 0.1  0.15 0.2  0.25 0.3  0.35 0.4  0.45 0.5  0.55 0.6  0.65\n",
            " 0.7  0.75 0.8  0.85 0.9  0.95 1.  ]\n"
          ],
          "name": "stdout"
        }
      ]
    },
    {
      "cell_type": "code",
      "metadata": {
        "id": "lbBQnYjlTUVK",
        "colab_type": "code",
        "colab": {
          "base_uri": "https://localhost:8080/",
          "height": 391
        },
        "outputId": "c5298778-15e8-4aaf-8b0b-e41f5d8c1499"
      },
      "source": [
        "#stats = pd.DataFrame(results,columns = [\"centrality\",\"similarity\",\"auc-roc\",\"auc-prc\"])\n",
        "stats = pd.DataFrame(results,columns = [\"alpha\",\"auc-roc\",\"auc-prc\"])\n",
        "print(stats)\n",
        "stats.to_csv('jazz-result.csv') "
      ],
      "execution_count": null,
      "outputs": [
        {
          "output_type": "stream",
          "text": [
            "    alpha   auc-roc   auc-prc\n",
            "0    0.00  0.718740  0.521623\n",
            "1    0.05  0.940623  0.591431\n",
            "2    0.10  0.940623  0.591431\n",
            "3    0.15  0.940623  0.591431\n",
            "4    0.20  0.940623  0.591431\n",
            "5    0.25  0.940623  0.591431\n",
            "6    0.30  0.940623  0.591431\n",
            "7    0.35  0.940623  0.591431\n",
            "8    0.40  0.940623  0.591431\n",
            "9    0.45  0.940623  0.591431\n",
            "10   0.50  0.940623  0.591431\n",
            "11   0.55  0.940623  0.591431\n",
            "12   0.60  0.940623  0.591431\n",
            "13   0.65  0.940623  0.591431\n",
            "14   0.70  0.940623  0.591431\n",
            "15   0.75  0.940623  0.591431\n",
            "16   0.80  0.940623  0.591431\n",
            "17   0.85  0.940623  0.591431\n",
            "18   0.90  0.940623  0.591431\n",
            "19   0.95  0.940623  0.591431\n",
            "20   1.00  0.941359  0.591481\n"
          ],
          "name": "stdout"
        }
      ]
    },
    {
      "cell_type": "code",
      "metadata": {
        "id": "PnoQ1jOkTXMF",
        "colab_type": "code",
        "colab": {
          "base_uri": "https://localhost:8080/",
          "height": 17
        },
        "outputId": "047dcc66-0d6b-4a0a-968e-7f85c425b9f5"
      },
      "source": [
        "files.download('jazz-result.csv')"
      ],
      "execution_count": null,
      "outputs": [
        {
          "output_type": "display_data",
          "data": {
            "application/javascript": [
              "\n",
              "    async function download(id, filename, size) {\n",
              "      if (!google.colab.kernel.accessAllowed) {\n",
              "        return;\n",
              "      }\n",
              "      const div = document.createElement('div');\n",
              "      const label = document.createElement('label');\n",
              "      label.textContent = `Downloading \"${filename}\": `;\n",
              "      div.appendChild(label);\n",
              "      const progress = document.createElement('progress');\n",
              "      progress.max = size;\n",
              "      div.appendChild(progress);\n",
              "      document.body.appendChild(div);\n",
              "\n",
              "      const buffers = [];\n",
              "      let downloaded = 0;\n",
              "\n",
              "      const channel = await google.colab.kernel.comms.open(id);\n",
              "      // Send a message to notify the kernel that we're ready.\n",
              "      channel.send({})\n",
              "\n",
              "      for await (const message of channel.messages) {\n",
              "        // Send a message to notify the kernel that we're ready.\n",
              "        channel.send({})\n",
              "        if (message.buffers) {\n",
              "          for (const buffer of message.buffers) {\n",
              "            buffers.push(buffer);\n",
              "            downloaded += buffer.byteLength;\n",
              "            progress.value = downloaded;\n",
              "          }\n",
              "        }\n",
              "      }\n",
              "      const blob = new Blob(buffers, {type: 'application/binary'});\n",
              "      const a = document.createElement('a');\n",
              "      a.href = window.URL.createObjectURL(blob);\n",
              "      a.download = filename;\n",
              "      div.appendChild(a);\n",
              "      a.click();\n",
              "      div.remove();\n",
              "    }\n",
              "  "
            ],
            "text/plain": [
              "<IPython.core.display.Javascript object>"
            ]
          },
          "metadata": {
            "tags": []
          }
        },
        {
          "output_type": "display_data",
          "data": {
            "application/javascript": [
              "download(\"download_ff21f977-2cac-442a-b6b3-4e06ecc5f7bd\", \"jazz-result.csv\", 545)"
            ],
            "text/plain": [
              "<IPython.core.display.Javascript object>"
            ]
          },
          "metadata": {
            "tags": []
          }
        }
      ]
    }
  ]
}